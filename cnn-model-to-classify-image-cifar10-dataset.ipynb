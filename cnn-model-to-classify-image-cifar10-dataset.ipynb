{
 "cells": [
  {
   "cell_type": "markdown",
   "id": "ae215c09",
   "metadata": {
    "_cell_guid": "c81fa876-392c-4b0c-bf48-284b3d97e71d",
    "_uuid": "62fefc15-0ce9-44f2-931b-fb2fa80c46a9",
    "collapsed": false,
    "jupyter": {
     "outputs_hidden": false
    },
    "papermill": {
     "duration": 0.005217,
     "end_time": "2025-05-03T09:37:03.723501",
     "exception": false,
     "start_time": "2025-05-03T09:37:03.718284",
     "status": "completed"
    },
    "tags": []
   },
   "source": [
    "# CNN model (with 2+ layers of convolutions) to classify image datasets on Dataset"
   ]
  },
  {
   "cell_type": "markdown",
   "id": "3ba45717",
   "metadata": {
    "papermill": {
     "duration": 0.004031,
     "end_time": "2025-05-03T09:37:03.732043",
     "exception": false,
     "start_time": "2025-05-03T09:37:03.728012",
     "status": "completed"
    },
    "tags": []
   },
   "source": [
    "# PyTorch CNN for CIFAR-10\n",
    "\n",
    "This script implements a ResNet-based architecture with common techniques\n",
    "like data augmentation (AutoAugment), SGD with momentum, weight decay,\n",
    "and the OneCycleLR learning rate scheduler to achieve high accuracy.\n",
    "Designed to be run on environments like Kaggle with GPU support."
   ]
  },
  {
   "cell_type": "markdown",
   "id": "0f6c247d",
   "metadata": {
    "_cell_guid": "e8ab23a1-e8d7-41df-a6e8-4218b8e73a3a",
    "_uuid": "5b51ceb8-b47a-42cd-a770-42a8a85e7ef9",
    "collapsed": false,
    "jupyter": {
     "outputs_hidden": false
    },
    "papermill": {
     "duration": 0.003919,
     "end_time": "2025-05-03T09:37:03.741200",
     "exception": false,
     "start_time": "2025-05-03T09:37:03.737281",
     "status": "completed"
    },
    "tags": []
   },
   "source": [
    "# Initial Imports"
   ]
  },
  {
   "cell_type": "code",
   "execution_count": 1,
   "id": "1102a6b0",
   "metadata": {
    "execution": {
     "iopub.execute_input": "2025-05-03T09:37:03.750621Z",
     "iopub.status.busy": "2025-05-03T09:37:03.750337Z",
     "iopub.status.idle": "2025-05-03T09:37:12.925361Z",
     "shell.execute_reply": "2025-05-03T09:37:12.924594Z"
    },
    "papermill": {
     "duration": 9.18167,
     "end_time": "2025-05-03T09:37:12.927054",
     "exception": false,
     "start_time": "2025-05-03T09:37:03.745384",
     "status": "completed"
    },
    "tags": []
   },
   "outputs": [],
   "source": [
    "import torch\n",
    "import torch.nn as nn\n",
    "import torch.optim as optim\n",
    "import torch.nn.functional as F\n",
    "from torch.utils.data import DataLoader\n",
    "from torch.optim.lr_scheduler import OneCycleLR # Powerful scheduler\n",
    "import torchvision\n",
    "import torchvision.transforms as transforms\n",
    "import torchvision.datasets as datasets\n",
    "import torchvision.models as models # To get ResNet\n",
    "import time\n",
    "import copy\n",
    "import os\n",
    "import matplotlib.pyplot as plt\n",
    "import numpy as np"
   ]
  },
  {
   "cell_type": "markdown",
   "id": "7dff9f63",
   "metadata": {
    "_cell_guid": "b74d6285-f304-4675-87b2-4ab740e364ba",
    "_uuid": "a59a5650-220a-4efb-8cef-11fae95f878b",
    "collapsed": false,
    "jupyter": {
     "outputs_hidden": false
    },
    "papermill": {
     "duration": 0.004109,
     "end_time": "2025-05-03T09:37:12.935884",
     "exception": false,
     "start_time": "2025-05-03T09:37:12.931775",
     "status": "completed"
    },
    "tags": []
   },
   "source": [
    "## pytorch Version"
   ]
  },
  {
   "cell_type": "code",
   "execution_count": 2,
   "id": "459aa9fe",
   "metadata": {
    "_cell_guid": "a7a8c7e1-ad69-4fa8-ba4b-6f9721244562",
    "_uuid": "e4e5f9b5-9a98-4ea0-bae7-0f059fe64f19",
    "collapsed": false,
    "execution": {
     "iopub.execute_input": "2025-05-03T09:37:12.945530Z",
     "iopub.status.busy": "2025-05-03T09:37:12.944873Z",
     "iopub.status.idle": "2025-05-03T09:37:12.949723Z",
     "shell.execute_reply": "2025-05-03T09:37:12.949035Z"
    },
    "jupyter": {
     "outputs_hidden": false
    },
    "papermill": {
     "duration": 0.010891,
     "end_time": "2025-05-03T09:37:12.950958",
     "exception": false,
     "start_time": "2025-05-03T09:37:12.940067",
     "status": "completed"
    },
    "tags": []
   },
   "outputs": [
    {
     "name": "stdout",
     "output_type": "stream",
     "text": [
      "2.5.1+cu124\n"
     ]
    }
   ],
   "source": [
    "%matplotlib inline\n",
    "print(torch.__version__)"
   ]
  },
  {
   "cell_type": "markdown",
   "id": "73fab119",
   "metadata": {
    "papermill": {
     "duration": 0.004101,
     "end_time": "2025-05-03T09:37:12.959433",
     "exception": false,
     "start_time": "2025-05-03T09:37:12.955332",
     "status": "completed"
    },
    "tags": []
   },
   "source": [
    "# Configuration"
   ]
  },
  {
   "cell_type": "code",
   "execution_count": 3,
   "id": "63ef0daf",
   "metadata": {
    "execution": {
     "iopub.execute_input": "2025-05-03T09:37:12.968681Z",
     "iopub.status.busy": "2025-05-03T09:37:12.968462Z",
     "iopub.status.idle": "2025-05-03T09:37:12.972366Z",
     "shell.execute_reply": "2025-05-03T09:37:12.971883Z"
    },
    "papermill": {
     "duration": 0.009627,
     "end_time": "2025-05-03T09:37:12.973334",
     "exception": false,
     "start_time": "2025-05-03T09:37:12.963707",
     "status": "completed"
    },
    "tags": []
   },
   "outputs": [],
   "source": [
    "BATCH_SIZE = int(os.environ.get(\"BATCH_SIZE\", 128))\n",
    "EPOCHS = int(os.environ.get(\"EPOCHS\", 60))\n",
    "LEARNING_RATE = float(os.environ.get(\"LEARNING_RATE\", 0.1))\n",
    "WEIGHT_DECAY = float(os.environ.get(\"WEIGHT_DECAY\", 5e-4))\n",
    "MOMENTUM = 0.9\n",
    "NUM_WORKERS = int(os.environ.get(\"NUM_WORKERS\", 2))\n",
    "DATA_DIR = './data'\n",
    "MODEL_SAVE_PATH = 'best_cifar10_resnet_pytorch.pth'"
   ]
  },
  {
   "cell_type": "markdown",
   "id": "36e91710",
   "metadata": {
    "papermill": {
     "duration": 0.004159,
     "end_time": "2025-05-03T09:37:12.981782",
     "exception": false,
     "start_time": "2025-05-03T09:37:12.977623",
     "status": "completed"
    },
    "tags": []
   },
   "source": [
    "# Device Setup"
   ]
  },
  {
   "cell_type": "code",
   "execution_count": 4,
   "id": "197b877a",
   "metadata": {
    "execution": {
     "iopub.execute_input": "2025-05-03T09:37:12.990921Z",
     "iopub.status.busy": "2025-05-03T09:37:12.990723Z",
     "iopub.status.idle": "2025-05-03T09:37:13.095352Z",
     "shell.execute_reply": "2025-05-03T09:37:13.094719Z"
    },
    "papermill": {
     "duration": 0.110458,
     "end_time": "2025-05-03T09:37:13.096418",
     "exception": false,
     "start_time": "2025-05-03T09:37:12.985960",
     "status": "completed"
    },
    "tags": []
   },
   "outputs": [
    {
     "name": "stdout",
     "output_type": "stream",
     "text": [
      "CUDA available. Using GPU: Tesla T4\n"
     ]
    }
   ],
   "source": [
    "if torch.cuda.is_available():\n",
    "    DEVICE = torch.device(\"cuda\")\n",
    "    PIN_MEMORY = True\n",
    "    print(f\"CUDA available. Using GPU: {torch.cuda.get_device_name(0)}\")\n",
    "else:\n",
    "    DEVICE = torch.device(\"cpu\")\n",
    "    PIN_MEMORY = False\n",
    "    print(\"CUDA not available. Using CPU.\")"
   ]
  },
  {
   "cell_type": "markdown",
   "id": "eabdda11",
   "metadata": {
    "_cell_guid": "48e9f850-f45f-4e54-ac1c-50988d675c45",
    "_uuid": "de91defc-19c0-4468-b5cb-9338529a7e5c",
    "collapsed": false,
    "jupyter": {
     "outputs_hidden": false
    },
    "papermill": {
     "duration": 0.004298,
     "end_time": "2025-05-03T09:37:13.105526",
     "exception": false,
     "start_time": "2025-05-03T09:37:13.101228",
     "status": "completed"
    },
    "tags": []
   },
   "source": [
    "# Dataset"
   ]
  },
  {
   "cell_type": "markdown",
   "id": "00d80853",
   "metadata": {
    "papermill": {
     "duration": 0.004258,
     "end_time": "2025-05-03T09:37:13.114113",
     "exception": false,
     "start_time": "2025-05-03T09:37:13.109855",
     "status": "completed"
    },
    "tags": []
   },
   "source": [
    "## Data Preparation"
   ]
  },
  {
   "cell_type": "code",
   "execution_count": 5,
   "id": "73ab4206",
   "metadata": {
    "execution": {
     "iopub.execute_input": "2025-05-03T09:37:13.123960Z",
     "iopub.status.busy": "2025-05-03T09:37:13.123450Z",
     "iopub.status.idle": "2025-05-03T09:37:13.127795Z",
     "shell.execute_reply": "2025-05-03T09:37:13.127071Z"
    },
    "papermill": {
     "duration": 0.010375,
     "end_time": "2025-05-03T09:37:13.128810",
     "exception": false,
     "start_time": "2025-05-03T09:37:13.118435",
     "status": "completed"
    },
    "tags": []
   },
   "outputs": [
    {
     "name": "stdout",
     "output_type": "stream",
     "text": [
      "Setting up data transformations...\n"
     ]
    }
   ],
   "source": [
    "print(\"Setting up data transformations...\")\n",
    "normalize = transforms.Normalize(mean=[0.4914, 0.4822, 0.4465],\n",
    "                                 std=[0.2023, 0.1994, 0.2010])"
   ]
  },
  {
   "cell_type": "markdown",
   "id": "6ce4ef7f",
   "metadata": {
    "papermill": {
     "duration": 0.004262,
     "end_time": "2025-05-03T09:37:13.137474",
     "exception": false,
     "start_time": "2025-05-03T09:37:13.133212",
     "status": "completed"
    },
    "tags": []
   },
   "source": [
    "## Data Augmentation for Training set"
   ]
  },
  {
   "cell_type": "code",
   "execution_count": 6,
   "id": "06e5b1c8",
   "metadata": {
    "execution": {
     "iopub.execute_input": "2025-05-03T09:37:13.147093Z",
     "iopub.status.busy": "2025-05-03T09:37:13.146891Z",
     "iopub.status.idle": "2025-05-03T09:37:13.150915Z",
     "shell.execute_reply": "2025-05-03T09:37:13.150358Z"
    },
    "papermill": {
     "duration": 0.010111,
     "end_time": "2025-05-03T09:37:13.151956",
     "exception": false,
     "start_time": "2025-05-03T09:37:13.141845",
     "status": "completed"
    },
    "tags": []
   },
   "outputs": [],
   "source": [
    "transform_train = transforms.Compose([\n",
    "    transforms.RandomCrop(32, padding=4, padding_mode='reflect'), # Reflect padding often works well\n",
    "    transforms.RandomHorizontalFlip(),\n",
    "    transforms.AutoAugment(transforms.AutoAugmentPolicy.CIFAR10), # Strong augmentation policy\n",
    "    transforms.ToTensor(),\n",
    "    normalize,\n",
    "    transforms.RandomErasing(p=0.2, scale=(0.02, 0.1), ratio=(0.3, 3.3), value=0, inplace=False) # Cutout/Random Erasing\n",
    "])"
   ]
  },
  {
   "cell_type": "markdown",
   "id": "35960772",
   "metadata": {
    "papermill": {
     "duration": 0.004298,
     "end_time": "2025-05-03T09:37:13.160685",
     "exception": false,
     "start_time": "2025-05-03T09:37:13.156387",
     "status": "completed"
    },
    "tags": []
   },
   "source": [
    "## Transformation for Validation/Testing set (only normalization)"
   ]
  },
  {
   "cell_type": "code",
   "execution_count": 7,
   "id": "aed1c947",
   "metadata": {
    "execution": {
     "iopub.execute_input": "2025-05-03T09:37:13.171564Z",
     "iopub.status.busy": "2025-05-03T09:37:13.171338Z",
     "iopub.status.idle": "2025-05-03T09:37:13.174614Z",
     "shell.execute_reply": "2025-05-03T09:37:13.174078Z"
    },
    "papermill": {
     "duration": 0.010394,
     "end_time": "2025-05-03T09:37:13.175517",
     "exception": false,
     "start_time": "2025-05-03T09:37:13.165123",
     "status": "completed"
    },
    "tags": []
   },
   "outputs": [],
   "source": [
    "transform_test = transforms.Compose([\n",
    "    transforms.ToTensor(),\n",
    "    normalize,\n",
    "])"
   ]
  },
  {
   "cell_type": "markdown",
   "id": "c757f980",
   "metadata": {
    "papermill": {
     "duration": 0.004372,
     "end_time": "2025-05-03T09:37:13.184327",
     "exception": false,
     "start_time": "2025-05-03T09:37:13.179955",
     "status": "completed"
    },
    "tags": []
   },
   "source": [
    "## Load Dataset\n",
    "\n",
    "Download and load datasets\n",
    "\n",
    "Adding exception handling for robustness in different environments"
   ]
  },
  {
   "cell_type": "code",
   "execution_count": 8,
   "id": "1cd95577",
   "metadata": {
    "execution": {
     "iopub.execute_input": "2025-05-03T09:37:13.194139Z",
     "iopub.status.busy": "2025-05-03T09:37:13.193921Z",
     "iopub.status.idle": "2025-05-03T09:37:19.386652Z",
     "shell.execute_reply": "2025-05-03T09:37:19.385848Z"
    },
    "papermill": {
     "duration": 6.199508,
     "end_time": "2025-05-03T09:37:19.388322",
     "exception": false,
     "start_time": "2025-05-03T09:37:13.188814",
     "status": "completed"
    },
    "tags": []
   },
   "outputs": [
    {
     "name": "stdout",
     "output_type": "stream",
     "text": [
      "Loading CIFAR-10 dataset...\n",
      "Downloading https://www.cs.toronto.edu/~kriz/cifar-10-python.tar.gz to ./data/cifar-10-python.tar.gz\n"
     ]
    },
    {
     "name": "stderr",
     "output_type": "stream",
     "text": [
      "100%|██████████| 170M/170M [00:02<00:00, 59.5MB/s]\n"
     ]
    },
    {
     "name": "stdout",
     "output_type": "stream",
     "text": [
      "Extracting ./data/cifar-10-python.tar.gz to ./data\n",
      "Files already downloaded and verified\n",
      "Dataset downloaded/loaded successfully.\n"
     ]
    }
   ],
   "source": [
    "print(\"Loading CIFAR-10 dataset...\")\n",
    "try:\n",
    "    train_dataset = datasets.CIFAR10(root=DATA_DIR, train=True, download=True, transform=transform_train)\n",
    "    test_dataset = datasets.CIFAR10(root=DATA_DIR, train=False, download=True, transform=transform_test)\n",
    "    print(\"Dataset downloaded/loaded successfully.\")\n",
    "except Exception as e:\n",
    "    print(f\"Error during dataset download/load: {e}\")\n",
    "    print(\"Attempting to load from local directory assuming it exists...\")\n",
    "    try:\n",
    "        train_dataset = datasets.CIFAR10(root=DATA_DIR, train=True, download=False, transform=transform_train)\n",
    "        test_dataset = datasets.CIFAR10(root=DATA_DIR, train=False, download=False, transform=transform_test)\n",
    "        print(\"Dataset loaded successfully from local directory.\")\n",
    "    except Exception as e2:\n",
    "        print(f\"Failed to load dataset from local directory: {e2}\")\n",
    "        print(\"Please ensure the dataset is available or network access is configured.\")\n",
    "        exit() # Exit if dataset cannot be loaded"
   ]
  },
  {
   "cell_type": "markdown",
   "id": "ff42c585",
   "metadata": {
    "_cell_guid": "40e6dc6f-c801-4938-809f-11e14de50ad5",
    "_uuid": "3adadfd3-c296-40cd-b583-1564baf20069",
    "collapsed": false,
    "jupyter": {
     "outputs_hidden": false
    },
    "papermill": {
     "duration": 0.005786,
     "end_time": "2025-05-03T09:37:19.400991",
     "exception": false,
     "start_time": "2025-05-03T09:37:19.395205",
     "status": "completed"
    },
    "tags": []
   },
   "source": [
    "# Data Loaders"
   ]
  },
  {
   "cell_type": "code",
   "execution_count": 9,
   "id": "b39c6304",
   "metadata": {
    "execution": {
     "iopub.execute_input": "2025-05-03T09:37:19.414179Z",
     "iopub.status.busy": "2025-05-03T09:37:19.413946Z",
     "iopub.status.idle": "2025-05-03T09:37:19.419641Z",
     "shell.execute_reply": "2025-05-03T09:37:19.418932Z"
    },
    "papermill": {
     "duration": 0.013689,
     "end_time": "2025-05-03T09:37:19.420605",
     "exception": false,
     "start_time": "2025-05-03T09:37:19.406916",
     "status": "completed"
    },
    "tags": []
   },
   "outputs": [
    {
     "name": "stdout",
     "output_type": "stream",
     "text": [
      "Creating DataLoaders...\n",
      "Train dataset size: 50000\n",
      "Test dataset size: 10000\n",
      "Number of training batches: 391\n",
      "Number of testing batches: 40\n"
     ]
    }
   ],
   "source": [
    "print(\"Creating DataLoaders...\")\n",
    "train_loader = DataLoader(train_dataset,\n",
    "                          batch_size=BATCH_SIZE,\n",
    "                          shuffle=True,\n",
    "                          num_workers=NUM_WORKERS,\n",
    "                          pin_memory=PIN_MEMORY,\n",
    "                          persistent_workers=True if NUM_WORKERS > 0 else False) # Can speed up loading\n",
    "\n",
    "test_loader = DataLoader(test_dataset,\n",
    "                         batch_size=BATCH_SIZE*2, # Use larger batch size for evaluation\n",
    "                         shuffle=False,\n",
    "                         num_workers=NUM_WORKERS,\n",
    "                         pin_memory=PIN_MEMORY,\n",
    "                         persistent_workers=True if NUM_WORKERS > 0 else False)\n",
    "\n",
    "classes = ('plane', 'car', 'bird', 'cat', 'deer', 'dog', 'frog', 'horse', 'ship', 'truck')\n",
    "print(f\"Train dataset size: {len(train_dataset)}\")\n",
    "print(f\"Test dataset size: {len(test_dataset)}\")\n",
    "print(f\"Number of training batches: {len(train_loader)}\")\n",
    "print(f\"Number of testing batches: {len(test_loader)}\")"
   ]
  },
  {
   "cell_type": "markdown",
   "id": "3c483f0b",
   "metadata": {
    "execution": {
     "iopub.execute_input": "2025-05-03T09:17:59.274032Z",
     "iopub.status.busy": "2025-05-03T09:17:59.273697Z",
     "iopub.status.idle": "2025-05-03T09:20:01.712557Z",
     "shell.execute_reply": "2025-05-03T09:20:01.710825Z",
     "shell.execute_reply.started": "2025-05-03T09:17:59.274003Z"
    },
    "papermill": {
     "duration": 0.005753,
     "end_time": "2025-05-03T09:37:19.432285",
     "exception": false,
     "start_time": "2025-05-03T09:37:19.426532",
     "status": "completed"
    },
    "tags": []
   },
   "source": [
    "# Model Definition (ResNet18 adapted for CIFAR-10)\n",
    "\n",
    "Modify the first convolution layer for 32x32 images:\n",
    "\n",
    "Original ResNet18's conv1 is kernel_size=7, stride=2, padding=3\n",
    "\n",
    "We adapt it for smaller images: kernel_size=3, stride=1, padding=1"
   ]
  },
  {
   "cell_type": "code",
   "execution_count": 10,
   "id": "6a1fba46",
   "metadata": {
    "execution": {
     "iopub.execute_input": "2025-05-03T09:37:19.444782Z",
     "iopub.status.busy": "2025-05-03T09:37:19.444529Z",
     "iopub.status.idle": "2025-05-03T09:37:19.802800Z",
     "shell.execute_reply": "2025-05-03T09:37:19.801992Z"
    },
    "papermill": {
     "duration": 0.366093,
     "end_time": "2025-05-03T09:37:19.804235",
     "exception": false,
     "start_time": "2025-05-03T09:37:19.438142",
     "status": "completed"
    },
    "tags": []
   },
   "outputs": [
    {
     "name": "stdout",
     "output_type": "stream",
     "text": [
      "Defining the model architecture (ResNet18 adapted for CIFAR-10)...\n"
     ]
    }
   ],
   "source": [
    "print(\"Defining the model architecture (ResNet18 adapted for CIFAR-10)...\")\n",
    "def create_resnet18_cifar():\n",
    "    \"\"\"Creates a ResNet-18 model adapted for CIFAR-10 (32x32 input).\"\"\"\n",
    "    model = models.resnet18(weights=None, num_classes=10)\n",
    "    model.conv1 = nn.Conv2d(3, 64, kernel_size=(3, 3), stride=(1, 1), padding=(1, 1), bias=False)\n",
    "\n",
    "    # Remove the initial max pooling layer (not needed for 32x32)\n",
    "    # Original ResNet18's maxpool is kernel_size=3, stride=2, padding=1\n",
    "    model.maxpool = nn.Identity() # Identity layer simply passes input through\n",
    "\n",
    "    return model\n",
    "\n",
    "model = create_resnet18_cifar().to(DEVICE)\n",
    "# print(model) # Uncomment to view the adapted architecture details"
   ]
  },
  {
   "cell_type": "markdown",
   "id": "5637f570",
   "metadata": {
    "execution": {
     "iopub.execute_input": "2025-05-03T09:17:59.274032Z",
     "iopub.status.busy": "2025-05-03T09:17:59.273697Z",
     "iopub.status.idle": "2025-05-03T09:20:01.712557Z",
     "shell.execute_reply": "2025-05-03T09:20:01.710825Z",
     "shell.execute_reply.started": "2025-05-03T09:17:59.274003Z"
    },
    "papermill": {
     "duration": 0.005923,
     "end_time": "2025-05-03T09:37:19.816653",
     "exception": false,
     "start_time": "2025-05-03T09:37:19.810730",
     "status": "completed"
    },
    "tags": []
   },
   "source": [
    "# Loss Function, Optimizer, Scheduler "
   ]
  },
  {
   "cell_type": "code",
   "execution_count": 11,
   "id": "f5541f02",
   "metadata": {
    "execution": {
     "iopub.execute_input": "2025-05-03T09:37:19.829946Z",
     "iopub.status.busy": "2025-05-03T09:37:19.829394Z",
     "iopub.status.idle": "2025-05-03T09:37:19.833429Z",
     "shell.execute_reply": "2025-05-03T09:37:19.832713Z"
    },
    "papermill": {
     "duration": 0.011738,
     "end_time": "2025-05-03T09:37:19.834450",
     "exception": false,
     "start_time": "2025-05-03T09:37:19.822712",
     "status": "completed"
    },
    "tags": []
   },
   "outputs": [
    {
     "name": "stdout",
     "output_type": "stream",
     "text": [
      "Setting up loss function, optimizer, and learning rate scheduler...\n"
     ]
    }
   ],
   "source": [
    "print(\"Setting up loss function, optimizer, and learning rate scheduler...\")\n",
    "criterion = nn.CrossEntropyLoss()"
   ]
  },
  {
   "cell_type": "markdown",
   "id": "141c471a",
   "metadata": {
    "execution": {
     "iopub.execute_input": "2025-05-03T09:17:59.274032Z",
     "iopub.status.busy": "2025-05-03T09:17:59.273697Z",
     "iopub.status.idle": "2025-05-03T09:20:01.712557Z",
     "shell.execute_reply": "2025-05-03T09:20:01.710825Z",
     "shell.execute_reply.started": "2025-05-03T09:17:59.274003Z"
    },
    "papermill": {
     "duration": 0.006008,
     "end_time": "2025-05-03T09:37:19.846784",
     "exception": false,
     "start_time": "2025-05-03T09:37:19.840776",
     "status": "completed"
    },
    "tags": []
   },
   "source": [
    "## Optimizer: SGD with momentum and weight decay is standard for ResNets with OneCycleLR"
   ]
  },
  {
   "cell_type": "code",
   "execution_count": 12,
   "id": "c6da2863",
   "metadata": {
    "execution": {
     "iopub.execute_input": "2025-05-03T09:37:19.859864Z",
     "iopub.status.busy": "2025-05-03T09:37:19.859640Z",
     "iopub.status.idle": "2025-05-03T09:37:19.863417Z",
     "shell.execute_reply": "2025-05-03T09:37:19.862906Z"
    },
    "papermill": {
     "duration": 0.011563,
     "end_time": "2025-05-03T09:37:19.864454",
     "exception": false,
     "start_time": "2025-05-03T09:37:19.852891",
     "status": "completed"
    },
    "tags": []
   },
   "outputs": [],
   "source": [
    "optimizer = optim.SGD(model.parameters(), lr=LEARNING_RATE, # Initial LR (OneCycleLR adjusts this)\n",
    "                      momentum=MOMENTUM, weight_decay=WEIGHT_DECAY, nesterov=True) # Nesterov momentum sometimes helps"
   ]
  },
  {
   "cell_type": "markdown",
   "id": "c7d826c8",
   "metadata": {
    "execution": {
     "iopub.execute_input": "2025-05-03T09:17:59.274032Z",
     "iopub.status.busy": "2025-05-03T09:17:59.273697Z",
     "iopub.status.idle": "2025-05-03T09:20:01.712557Z",
     "shell.execute_reply": "2025-05-03T09:20:01.710825Z",
     "shell.execute_reply.started": "2025-05-03T09:17:59.274003Z"
    },
    "papermill": {
     "duration": 0.00596,
     "end_time": "2025-05-03T09:37:19.876634",
     "exception": false,
     "start_time": "2025-05-03T09:37:19.870674",
     "status": "completed"
    },
    "tags": []
   },
   "source": [
    "## Learning Rate Scheduler: OneCycleLR\n",
    "Dynamically adjusts LR: increases then decreases. Often leads to faster training and better results."
   ]
  },
  {
   "cell_type": "code",
   "execution_count": 13,
   "id": "816196d7",
   "metadata": {
    "execution": {
     "iopub.execute_input": "2025-05-03T09:37:19.889633Z",
     "iopub.status.busy": "2025-05-03T09:37:19.889387Z",
     "iopub.status.idle": "2025-05-03T09:37:19.893315Z",
     "shell.execute_reply": "2025-05-03T09:37:19.892676Z"
    },
    "papermill": {
     "duration": 0.011533,
     "end_time": "2025-05-03T09:37:19.894290",
     "exception": false,
     "start_time": "2025-05-03T09:37:19.882757",
     "status": "completed"
    },
    "tags": []
   },
   "outputs": [],
   "source": [
    "scheduler = OneCycleLR(optimizer,\n",
    "                       max_lr=LEARNING_RATE,          # The peak learning rate\n",
    "                       epochs=EPOCHS,                 # Total number of epochs\n",
    "                       steps_per_epoch=len(train_loader), # Steps per epoch\n",
    "                       pct_start=0.3,                 # Percentage of cycle increasing LR (default 0.3)\n",
    "                       anneal_strategy='cos',         # Cosine annealing (default)\n",
    "                       div_factor=10,                 # Determines initial LR (max_lr / div_factor)\n",
    "                       final_div_factor=100)          # Determines final LR (initial_lr / final_div_factor)"
   ]
  },
  {
   "cell_type": "markdown",
   "id": "c513d3ba",
   "metadata": {
    "execution": {
     "iopub.execute_input": "2025-05-03T09:17:59.274032Z",
     "iopub.status.busy": "2025-05-03T09:17:59.273697Z",
     "iopub.status.idle": "2025-05-03T09:20:01.712557Z",
     "shell.execute_reply": "2025-05-03T09:20:01.710825Z",
     "shell.execute_reply.started": "2025-05-03T09:17:59.274003Z"
    },
    "papermill": {
     "duration": 0.006342,
     "end_time": "2025-05-03T09:37:19.906849",
     "exception": false,
     "start_time": "2025-05-03T09:37:19.900507",
     "status": "completed"
    },
    "tags": []
   },
   "source": [
    "# Training and Validation Functions "
   ]
  },
  {
   "cell_type": "code",
   "execution_count": 14,
   "id": "41fa877a",
   "metadata": {
    "execution": {
     "iopub.execute_input": "2025-05-03T09:37:19.919910Z",
     "iopub.status.busy": "2025-05-03T09:37:19.919721Z",
     "iopub.status.idle": "2025-05-03T09:37:19.929075Z",
     "shell.execute_reply": "2025-05-03T09:37:19.928372Z"
    },
    "papermill": {
     "duration": 0.017279,
     "end_time": "2025-05-03T09:37:19.930136",
     "exception": false,
     "start_time": "2025-05-03T09:37:19.912857",
     "status": "completed"
    },
    "tags": []
   },
   "outputs": [],
   "source": [
    "def train_one_epoch(model, train_loader, criterion, optimizer, scheduler, device): # Add scaler if using AMP\n",
    "    model.train()  # Set model to training mode\n",
    "    running_loss = 0.0\n",
    "    correct_predictions = 0\n",
    "    total_samples = 0\n",
    "    start_epoch_time = time.time()\n",
    "\n",
    "    for i, (inputs, labels) in enumerate(train_loader):\n",
    "        batch_start_time = time.time()\n",
    "        inputs, labels = inputs.to(device, non_blocking=True), labels.to(device, non_blocking=True) # Use non_blocking for potential speedup\n",
    "\n",
    "        optimizer.zero_grad(set_to_none=True) # More memory efficient than zeroing\n",
    "\n",
    "        # --- Standard Precision Training ---\n",
    "        outputs = model(inputs)\n",
    "        loss = criterion(outputs, labels)\n",
    "        loss.backward()\n",
    "        optimizer.step()\n",
    "        # --- End Standard Precision Block ---\n",
    "\n",
    "\n",
    "        # Step the scheduler *after* the optimizer step\n",
    "        scheduler.step()\n",
    "\n",
    "        # --- Statistics ---\n",
    "        running_loss += loss.item() * inputs.size(0)\n",
    "        _, predicted = torch.max(outputs.data, 1)\n",
    "        total_samples += labels.size(0)\n",
    "        correct_predictions += (predicted == labels).sum().item()\n",
    "\n",
    "        # Print progress occasionally\n",
    "        if (i + 1) % 100 == 0 or (i + 1) == len(train_loader):\n",
    "            current_lr = optimizer.param_groups[0]['lr'] # Get current LR\n",
    "            batch_time = time.time() - batch_start_time\n",
    "            print(f'\\r  Batch [{i+1:>4}/{len(train_loader):<4}] | Loss: {loss.item():.4f} | LR: {current_lr:.6f} | Time: {batch_time*1000:.1f}ms', end='')\n",
    "\n",
    "    print() # Newline after epoch progress\n",
    "    epoch_duration = time.time() - start_epoch_time\n",
    "    epoch_loss = running_loss / total_samples\n",
    "    epoch_acc = correct_predictions / total_samples\n",
    "    print(f\"  Epoch Train Duration: {epoch_duration:.2f}s\")\n",
    "    return epoch_loss, epoch_acc\n",
    "\n",
    "def validate(model, test_loader, criterion, device):\n",
    "    model.eval()  # Set model to evaluation mode\n",
    "    running_loss = 0.0\n",
    "    correct_predictions = 0\n",
    "    total_samples = 0\n",
    "    val_start_time = time.time()\n",
    "\n",
    "    with torch.no_grad():  # Essential for evaluation\n",
    "        for inputs, labels in test_loader:\n",
    "            inputs, labels = inputs.to(device, non_blocking=True), labels.to(device, non_blocking=True)\n",
    "\n",
    "            # --- Standard Precision ---\n",
    "            outputs = model(inputs)\n",
    "            loss = criterion(outputs, labels)\n",
    "            # --- End Standard Precision ---\n",
    "\n",
    "            running_loss += loss.item() * inputs.size(0)\n",
    "            _, predicted = torch.max(outputs.data, 1)\n",
    "            total_samples += labels.size(0)\n",
    "            correct_predictions += (predicted == labels).sum().item()\n",
    "\n",
    "    epoch_loss = running_loss / total_samples\n",
    "    epoch_acc = correct_predictions / total_samples\n",
    "    val_duration = time.time() - val_start_time\n",
    "    print(f\"  Validation Duration: {val_duration:.2f}s\")\n",
    "    return epoch_loss, epoch_acc"
   ]
  },
  {
   "cell_type": "markdown",
   "id": "0889a7b0",
   "metadata": {
    "execution": {
     "iopub.execute_input": "2025-05-03T09:17:59.274032Z",
     "iopub.status.busy": "2025-05-03T09:17:59.273697Z",
     "iopub.status.idle": "2025-05-03T09:20:01.712557Z",
     "shell.execute_reply": "2025-05-03T09:20:01.710825Z",
     "shell.execute_reply.started": "2025-05-03T09:17:59.274003Z"
    },
    "papermill": {
     "duration": 0.006082,
     "end_time": "2025-05-03T09:37:19.988747",
     "exception": false,
     "start_time": "2025-05-03T09:37:19.982665",
     "status": "completed"
    },
    "tags": []
   },
   "source": [
    "# Main Training Loop "
   ]
  },
  {
   "cell_type": "code",
   "execution_count": 15,
   "id": "3922f5fb",
   "metadata": {
    "execution": {
     "iopub.execute_input": "2025-05-03T09:37:20.002211Z",
     "iopub.status.busy": "2025-05-03T09:37:20.001660Z",
     "iopub.status.idle": "2025-05-03T10:29:00.770847Z",
     "shell.execute_reply": "2025-05-03T10:29:00.769633Z"
    },
    "papermill": {
     "duration": 3100.77759,
     "end_time": "2025-05-03T10:29:00.772398",
     "exception": false,
     "start_time": "2025-05-03T09:37:19.994808",
     "status": "completed"
    },
    "tags": []
   },
   "outputs": [
    {
     "name": "stdout",
     "output_type": "stream",
     "text": [
      "\n",
      "--- Starting Training for 60 Epochs ---\n",
      "\n",
      "--- Epoch 1/60 ---\n",
      "  Batch [ 391/391 ] | Loss: 1.5193 | LR: 0.010684 | Time: 63.9ms\n",
      "  Epoch Train Duration: 40.61s\n",
      "  Validation Duration: 2.63s\n",
      "--------------------------------------------------\n",
      "Epoch 1 Summary:\n",
      "  Train Loss: 1.7385 | Train Acc: 36.72%\n",
      "  Valid Loss: 1.3172 | Valid Acc: 53.78%\n",
      "  Epoch Duration: 43.24s\n",
      "--------------------------------------------------\n",
      "  ** Checkpoint Saved: best_cifar10_resnet_pytorch.pth (Val Acc: 53.78%) **\n",
      "\n",
      "--- Epoch 2/60 ---\n",
      "  Batch [ 391/391 ] | Loss: 1.0480 | LR: 0.012715 | Time: 67.5ms\n",
      "  Epoch Train Duration: 42.51s\n",
      "  Validation Duration: 2.84s\n",
      "--------------------------------------------------\n",
      "Epoch 2 Summary:\n",
      "  Train Loss: 1.2803 | Train Acc: 54.17%\n",
      "  Valid Loss: 1.0178 | Valid Acc: 64.80%\n",
      "  Epoch Duration: 45.35s\n",
      "--------------------------------------------------\n",
      "  ** Checkpoint Saved: best_cifar10_resnet_pytorch.pth (Val Acc: 64.80%) **\n",
      "\n",
      "--- Epoch 3/60 ---\n",
      "  Batch [ 391/391 ] | Loss: 0.9895 | LR: 0.016031 | Time: 82.5ms\n",
      "  Epoch Train Duration: 49.12s\n",
      "  Validation Duration: 3.27s\n",
      "--------------------------------------------------\n",
      "Epoch 3 Summary:\n",
      "  Train Loss: 1.0596 | Train Acc: 62.52%\n",
      "  Valid Loss: 0.7339 | Valid Acc: 74.79%\n",
      "  Epoch Duration: 52.39s\n",
      "--------------------------------------------------\n",
      "  ** Checkpoint Saved: best_cifar10_resnet_pytorch.pth (Val Acc: 74.79%) **\n",
      "\n",
      "--- Epoch 4/60 ---\n",
      "  Batch [ 391/391 ] | Loss: 0.8865 | LR: 0.020531 | Time: 74.7ms\n",
      "  Epoch Train Duration: 48.60s\n",
      "  Validation Duration: 3.05s\n",
      "--------------------------------------------------\n",
      "Epoch 4 Summary:\n",
      "  Train Loss: 0.9352 | Train Acc: 67.24%\n",
      "  Valid Loss: 0.7527 | Valid Acc: 74.75%\n",
      "  Epoch Duration: 51.65s\n",
      "--------------------------------------------------\n",
      "\n",
      "--- Epoch 5/60 ---\n",
      "  Batch [ 391/391 ] | Loss: 0.7106 | LR: 0.026079 | Time: 77.4ms\n",
      "  Epoch Train Duration: 49.59s\n",
      "  Validation Duration: 3.10s\n",
      "--------------------------------------------------\n",
      "Epoch 5 Summary:\n",
      "  Train Loss: 0.8650 | Train Acc: 69.95%\n",
      "  Valid Loss: 0.6444 | Valid Acc: 76.98%\n",
      "  Epoch Duration: 52.69s\n",
      "--------------------------------------------------\n",
      "  ** Checkpoint Saved: best_cifar10_resnet_pytorch.pth (Val Acc: 76.98%) **\n",
      "\n",
      "--- Epoch 6/60 ---\n",
      "  Batch [ 391/391 ] | Loss: 0.6427 | LR: 0.032506 | Time: 77.3ms\n",
      "  Epoch Train Duration: 49.20s\n",
      "  Validation Duration: 3.15s\n",
      "--------------------------------------------------\n",
      "Epoch 6 Summary:\n",
      "  Train Loss: 0.7996 | Train Acc: 71.96%\n",
      "  Valid Loss: 0.7405 | Valid Acc: 75.85%\n",
      "  Epoch Duration: 52.35s\n",
      "--------------------------------------------------\n",
      "\n",
      "--- Epoch 7/60 ---\n",
      "  Batch [ 391/391 ] | Loss: 0.5907 | LR: 0.039616 | Time: 76.8ms\n",
      "  Epoch Train Duration: 49.39s\n",
      "  Validation Duration: 3.07s\n",
      "--------------------------------------------------\n",
      "Epoch 7 Summary:\n",
      "  Train Loss: 0.7534 | Train Acc: 73.83%\n",
      "  Valid Loss: 0.6479 | Valid Acc: 78.00%\n",
      "  Epoch Duration: 52.47s\n",
      "--------------------------------------------------\n",
      "  ** Checkpoint Saved: best_cifar10_resnet_pytorch.pth (Val Acc: 78.00%) **\n",
      "\n",
      "--- Epoch 8/60 ---\n",
      "  Batch [ 391/391 ] | Loss: 0.8698 | LR: 0.047195 | Time: 76.0ms\n",
      "  Epoch Train Duration: 48.89s\n",
      "  Validation Duration: 3.08s\n",
      "--------------------------------------------------\n",
      "Epoch 8 Summary:\n",
      "  Train Loss: 0.7173 | Train Acc: 75.18%\n",
      "  Valid Loss: 0.6633 | Valid Acc: 78.29%\n",
      "  Epoch Duration: 51.97s\n",
      "--------------------------------------------------\n",
      "  ** Checkpoint Saved: best_cifar10_resnet_pytorch.pth (Val Acc: 78.29%) **\n",
      "\n",
      "--- Epoch 9/60 ---\n",
      "  Batch [ 391/391 ] | Loss: 0.5881 | LR: 0.055010 | Time: 77.0ms\n",
      "  Epoch Train Duration: 49.03s\n",
      "  Validation Duration: 3.09s\n",
      "--------------------------------------------------\n",
      "Epoch 9 Summary:\n",
      "  Train Loss: 0.6868 | Train Acc: 76.05%\n",
      "  Valid Loss: 0.5138 | Valid Acc: 82.40%\n",
      "  Epoch Duration: 52.13s\n",
      "--------------------------------------------------\n",
      "  ** Checkpoint Saved: best_cifar10_resnet_pytorch.pth (Val Acc: 82.40%) **\n",
      "\n",
      "--- Epoch 10/60 ---\n",
      "  Batch [ 391/391 ] | Loss: 0.5977 | LR: 0.062825 | Time: 76.1ms\n",
      "  Epoch Train Duration: 49.09s\n",
      "  Validation Duration: 3.10s\n",
      "--------------------------------------------------\n",
      "Epoch 10 Summary:\n",
      "  Train Loss: 0.6559 | Train Acc: 77.25%\n",
      "  Valid Loss: 0.6010 | Valid Acc: 79.62%\n",
      "  Epoch Duration: 52.19s\n",
      "--------------------------------------------------\n",
      "\n",
      "--- Epoch 11/60 ---\n",
      "  Batch [ 391/391 ] | Loss: 0.6345 | LR: 0.070402 | Time: 76.7ms\n",
      "  Epoch Train Duration: 49.06s\n",
      "  Validation Duration: 3.07s\n",
      "--------------------------------------------------\n",
      "Epoch 11 Summary:\n",
      "  Train Loss: 0.6391 | Train Acc: 77.92%\n",
      "  Valid Loss: 0.5015 | Valid Acc: 82.72%\n",
      "  Epoch Duration: 52.13s\n",
      "--------------------------------------------------\n",
      "  ** Checkpoint Saved: best_cifar10_resnet_pytorch.pth (Val Acc: 82.72%) **\n",
      "\n",
      "--- Epoch 12/60 ---\n",
      "  Batch [ 391/391 ] | Loss: 0.5978 | LR: 0.077512 | Time: 77.0ms\n",
      "  Epoch Train Duration: 48.79s\n",
      "  Validation Duration: 3.06s\n",
      "--------------------------------------------------\n",
      "Epoch 12 Summary:\n",
      "  Train Loss: 0.6181 | Train Acc: 78.58%\n",
      "  Valid Loss: 0.4682 | Valid Acc: 84.12%\n",
      "  Epoch Duration: 51.85s\n",
      "--------------------------------------------------\n",
      "  ** Checkpoint Saved: best_cifar10_resnet_pytorch.pth (Val Acc: 84.12%) **\n",
      "\n",
      "--- Epoch 13/60 ---\n",
      "  Batch [ 391/391 ] | Loss: 0.5731 | LR: 0.083937 | Time: 74.9ms\n",
      "  Epoch Train Duration: 48.72s\n",
      "  Validation Duration: 3.07s\n",
      "--------------------------------------------------\n",
      "Epoch 13 Summary:\n",
      "  Train Loss: 0.6052 | Train Acc: 78.96%\n",
      "  Valid Loss: 0.4882 | Valid Acc: 83.41%\n",
      "  Epoch Duration: 51.78s\n",
      "--------------------------------------------------\n",
      "\n",
      "--- Epoch 14/60 ---\n",
      "  Batch [ 391/391 ] | Loss: 0.7662 | LR: 0.089482 | Time: 75.9ms\n",
      "  Epoch Train Duration: 48.76s\n",
      "  Validation Duration: 3.05s\n",
      "--------------------------------------------------\n",
      "Epoch 14 Summary:\n",
      "  Train Loss: 0.5871 | Train Acc: 79.72%\n",
      "  Valid Loss: 0.4776 | Valid Acc: 83.87%\n",
      "  Epoch Duration: 51.82s\n",
      "--------------------------------------------------\n",
      "\n",
      "--- Epoch 15/60 ---\n",
      "  Batch [ 391/391 ] | Loss: 0.6697 | LR: 0.093980 | Time: 75.8ms\n",
      "  Epoch Train Duration: 48.82s\n",
      "  Validation Duration: 3.05s\n",
      "--------------------------------------------------\n",
      "Epoch 15 Summary:\n",
      "  Train Loss: 0.5830 | Train Acc: 79.78%\n",
      "  Valid Loss: 0.4386 | Valid Acc: 85.25%\n",
      "  Epoch Duration: 51.87s\n",
      "--------------------------------------------------\n",
      "  ** Checkpoint Saved: best_cifar10_resnet_pytorch.pth (Val Acc: 85.25%) **\n",
      "\n",
      "--- Epoch 16/60 ---\n",
      "  Batch [ 391/391 ] | Loss: 0.5943 | LR: 0.097292 | Time: 74.0ms\n",
      "  Epoch Train Duration: 48.73s\n",
      "  Validation Duration: 3.05s\n",
      "--------------------------------------------------\n",
      "Epoch 16 Summary:\n",
      "  Train Loss: 0.5751 | Train Acc: 80.25%\n",
      "  Valid Loss: 0.4363 | Valid Acc: 85.14%\n",
      "  Epoch Duration: 51.78s\n",
      "--------------------------------------------------\n",
      "\n",
      "--- Epoch 17/60 ---\n",
      "  Batch [ 391/391 ] | Loss: 0.5527 | LR: 0.099320 | Time: 77.1ms\n",
      "  Epoch Train Duration: 49.14s\n",
      "  Validation Duration: 3.12s\n",
      "--------------------------------------------------\n",
      "Epoch 17 Summary:\n",
      "  Train Loss: 0.5667 | Train Acc: 80.48%\n",
      "  Valid Loss: 0.5462 | Valid Acc: 81.11%\n",
      "  Epoch Duration: 52.26s\n",
      "--------------------------------------------------\n",
      "\n",
      "--- Epoch 18/60 ---\n",
      "  Batch [ 391/391 ] | Loss: 0.6470 | LR: 0.100000 | Time: 76.9ms\n",
      "  Epoch Train Duration: 49.27s\n",
      "  Validation Duration: 3.07s\n",
      "--------------------------------------------------\n",
      "Epoch 18 Summary:\n",
      "  Train Loss: 0.5660 | Train Acc: 80.62%\n",
      "  Valid Loss: 0.4606 | Valid Acc: 84.23%\n",
      "  Epoch Duration: 52.34s\n",
      "--------------------------------------------------\n",
      "\n",
      "--- Epoch 19/60 ---\n",
      "  Batch [ 391/391 ] | Loss: 0.6934 | LR: 0.099860 | Time: 75.9ms\n",
      "  Epoch Train Duration: 49.03s\n",
      "  Validation Duration: 3.04s\n",
      "--------------------------------------------------\n",
      "Epoch 19 Summary:\n",
      "  Train Loss: 0.5543 | Train Acc: 80.78%\n",
      "  Valid Loss: 0.5235 | Valid Acc: 82.35%\n",
      "  Epoch Duration: 52.08s\n",
      "--------------------------------------------------\n",
      "\n",
      "--- Epoch 20/60 ---\n",
      "  Batch [ 391/391 ] | Loss: 0.6237 | LR: 0.099441 | Time: 76.4ms\n",
      "  Epoch Train Duration: 48.82s\n",
      "  Validation Duration: 3.04s\n",
      "--------------------------------------------------\n",
      "Epoch 20 Summary:\n",
      "  Train Loss: 0.5482 | Train Acc: 81.16%\n",
      "  Valid Loss: 0.4455 | Valid Acc: 84.71%\n",
      "  Epoch Duration: 51.85s\n",
      "--------------------------------------------------\n",
      "\n",
      "--- Epoch 21/60 ---\n",
      "  Batch [ 391/391 ] | Loss: 0.6288 | LR: 0.098746 | Time: 75.0ms\n",
      "  Epoch Train Duration: 48.76s\n",
      "  Validation Duration: 3.04s\n",
      "--------------------------------------------------\n",
      "Epoch 21 Summary:\n",
      "  Train Loss: 0.5405 | Train Acc: 81.56%\n",
      "  Valid Loss: 0.4668 | Valid Acc: 84.14%\n",
      "  Epoch Duration: 51.79s\n",
      "--------------------------------------------------\n",
      "\n",
      "--- Epoch 22/60 ---\n",
      "  Batch [ 391/391 ] | Loss: 0.5544 | LR: 0.097778 | Time: 74.7ms\n",
      "  Epoch Train Duration: 48.61s\n",
      "  Validation Duration: 3.07s\n",
      "--------------------------------------------------\n",
      "Epoch 22 Summary:\n",
      "  Train Loss: 0.5382 | Train Acc: 81.40%\n",
      "  Valid Loss: 0.4362 | Valid Acc: 85.36%\n",
      "  Epoch Duration: 51.69s\n",
      "--------------------------------------------------\n",
      "  ** Checkpoint Saved: best_cifar10_resnet_pytorch.pth (Val Acc: 85.36%) **\n",
      "\n",
      "--- Epoch 23/60 ---\n",
      "  Batch [ 391/391 ] | Loss: 0.5308 | LR: 0.096544 | Time: 75.7ms\n",
      "  Epoch Train Duration: 49.19s\n",
      "  Validation Duration: 3.05s\n",
      "--------------------------------------------------\n",
      "Epoch 23 Summary:\n",
      "  Train Loss: 0.5311 | Train Acc: 81.84%\n",
      "  Valid Loss: 0.4172 | Valid Acc: 86.01%\n",
      "  Epoch Duration: 52.24s\n",
      "--------------------------------------------------\n",
      "  ** Checkpoint Saved: best_cifar10_resnet_pytorch.pth (Val Acc: 86.01%) **\n",
      "\n",
      "--- Epoch 24/60 ---\n",
      "  Batch [ 391/391 ] | Loss: 0.7150 | LR: 0.095049 | Time: 76.2ms\n",
      "  Epoch Train Duration: 48.92s\n",
      "  Validation Duration: 3.05s\n",
      "--------------------------------------------------\n",
      "Epoch 24 Summary:\n",
      "  Train Loss: 0.5197 | Train Acc: 82.11%\n",
      "  Valid Loss: 0.3924 | Valid Acc: 86.69%\n",
      "  Epoch Duration: 51.97s\n",
      "--------------------------------------------------\n",
      "  ** Checkpoint Saved: best_cifar10_resnet_pytorch.pth (Val Acc: 86.69%) **\n",
      "\n",
      "--- Epoch 25/60 ---\n",
      "  Batch [ 391/391 ] | Loss: 0.6081 | LR: 0.093303 | Time: 74.9ms\n",
      "  Epoch Train Duration: 48.78s\n",
      "  Validation Duration: 3.04s\n",
      "--------------------------------------------------\n",
      "Epoch 25 Summary:\n",
      "  Train Loss: 0.5202 | Train Acc: 82.10%\n",
      "  Valid Loss: 0.4503 | Valid Acc: 84.66%\n",
      "  Epoch Duration: 51.82s\n",
      "--------------------------------------------------\n",
      "\n",
      "--- Epoch 26/60 ---\n",
      "  Batch [ 391/391 ] | Loss: 0.5729 | LR: 0.091315 | Time: 74.4ms\n",
      "  Epoch Train Duration: 48.79s\n",
      "  Validation Duration: 3.06s\n",
      "--------------------------------------------------\n",
      "Epoch 26 Summary:\n",
      "  Train Loss: 0.5138 | Train Acc: 82.22%\n",
      "  Valid Loss: 0.4342 | Valid Acc: 85.36%\n",
      "  Epoch Duration: 51.85s\n",
      "--------------------------------------------------\n",
      "\n",
      "--- Epoch 27/60 ---\n",
      "  Batch [ 391/391 ] | Loss: 0.4434 | LR: 0.089097 | Time: 75.5ms\n",
      "  Epoch Train Duration: 48.81s\n",
      "  Validation Duration: 3.05s\n",
      "--------------------------------------------------\n",
      "Epoch 27 Summary:\n",
      "  Train Loss: 0.5108 | Train Acc: 82.49%\n",
      "  Valid Loss: 0.4038 | Valid Acc: 85.85%\n",
      "  Epoch Duration: 51.86s\n",
      "--------------------------------------------------\n",
      "\n",
      "--- Epoch 28/60 ---\n",
      "  Batch [ 391/391 ] | Loss: 0.5198 | LR: 0.086659 | Time: 75.6ms\n",
      "  Epoch Train Duration: 48.81s\n",
      "  Validation Duration: 3.04s\n",
      "--------------------------------------------------\n",
      "Epoch 28 Summary:\n",
      "  Train Loss: 0.5031 | Train Acc: 82.74%\n",
      "  Valid Loss: 0.4116 | Valid Acc: 85.59%\n",
      "  Epoch Duration: 51.85s\n",
      "--------------------------------------------------\n",
      "\n",
      "--- Epoch 29/60 ---\n",
      "  Batch [ 391/391 ] | Loss: 0.5229 | LR: 0.084018 | Time: 76.0ms\n",
      "  Epoch Train Duration: 48.81s\n",
      "  Validation Duration: 3.04s\n",
      "--------------------------------------------------\n",
      "Epoch 29 Summary:\n",
      "  Train Loss: 0.4955 | Train Acc: 82.92%\n",
      "  Valid Loss: 0.4107 | Valid Acc: 85.91%\n",
      "  Epoch Duration: 51.85s\n",
      "--------------------------------------------------\n",
      "\n",
      "--- Epoch 30/60 ---\n",
      "  Batch [ 391/391 ] | Loss: 0.5877 | LR: 0.081186 | Time: 75.4ms\n",
      "  Epoch Train Duration: 48.77s\n",
      "  Validation Duration: 3.04s\n",
      "--------------------------------------------------\n",
      "Epoch 30 Summary:\n",
      "  Train Loss: 0.4910 | Train Acc: 83.19%\n",
      "  Valid Loss: 0.4278 | Valid Acc: 85.30%\n",
      "  Epoch Duration: 51.81s\n",
      "--------------------------------------------------\n",
      "\n",
      "--- Epoch 31/60 ---\n",
      "  Batch [ 391/391 ] | Loss: 0.4316 | LR: 0.078180 | Time: 75.5ms\n",
      "  Epoch Train Duration: 48.77s\n",
      "  Validation Duration: 3.05s\n",
      "--------------------------------------------------\n",
      "Epoch 31 Summary:\n",
      "  Train Loss: 0.4876 | Train Acc: 83.38%\n",
      "  Valid Loss: 0.4665 | Valid Acc: 84.54%\n",
      "  Epoch Duration: 51.82s\n",
      "--------------------------------------------------\n",
      "\n",
      "--- Epoch 32/60 ---\n",
      "  Batch [ 391/391 ] | Loss: 0.4954 | LR: 0.075017 | Time: 75.4ms\n",
      "  Epoch Train Duration: 48.97s\n",
      "  Validation Duration: 3.06s\n",
      "--------------------------------------------------\n",
      "Epoch 32 Summary:\n",
      "  Train Loss: 0.4831 | Train Acc: 83.29%\n",
      "  Valid Loss: 0.3920 | Valid Acc: 85.97%\n",
      "  Epoch Duration: 52.03s\n",
      "--------------------------------------------------\n",
      "\n",
      "--- Epoch 33/60 ---\n",
      "  Batch [ 391/391 ] | Loss: 0.5088 | LR: 0.071714 | Time: 78.1ms\n",
      "  Epoch Train Duration: 49.27s\n",
      "  Validation Duration: 3.07s\n",
      "--------------------------------------------------\n",
      "Epoch 33 Summary:\n",
      "  Train Loss: 0.4824 | Train Acc: 83.44%\n",
      "  Valid Loss: 0.3984 | Valid Acc: 86.60%\n",
      "  Epoch Duration: 52.34s\n",
      "--------------------------------------------------\n",
      "\n",
      "--- Epoch 34/60 ---\n",
      "  Batch [ 391/391 ] | Loss: 0.5599 | LR: 0.068290 | Time: 77.1ms\n",
      "  Epoch Train Duration: 49.11s\n",
      "  Validation Duration: 3.05s\n",
      "--------------------------------------------------\n",
      "Epoch 34 Summary:\n",
      "  Train Loss: 0.4711 | Train Acc: 83.79%\n",
      "  Valid Loss: 0.3692 | Valid Acc: 87.53%\n",
      "  Epoch Duration: 52.16s\n",
      "--------------------------------------------------\n",
      "  ** Checkpoint Saved: best_cifar10_resnet_pytorch.pth (Val Acc: 87.53%) **\n",
      "\n",
      "--- Epoch 35/60 ---\n",
      "  Batch [ 391/391 ] | Loss: 0.4076 | LR: 0.064764 | Time: 75.0ms\n",
      "  Epoch Train Duration: 49.05s\n",
      "  Validation Duration: 3.06s\n",
      "--------------------------------------------------\n",
      "Epoch 35 Summary:\n",
      "  Train Loss: 0.4655 | Train Acc: 83.88%\n",
      "  Valid Loss: 0.3788 | Valid Acc: 87.13%\n",
      "  Epoch Duration: 52.10s\n",
      "--------------------------------------------------\n",
      "\n",
      "--- Epoch 36/60 ---\n",
      "  Batch [ 391/391 ] | Loss: 0.4994 | LR: 0.061156 | Time: 75.8ms\n",
      "  Epoch Train Duration: 48.92s\n",
      "  Validation Duration: 3.05s\n",
      "--------------------------------------------------\n",
      "Epoch 36 Summary:\n",
      "  Train Loss: 0.4579 | Train Acc: 84.36%\n",
      "  Valid Loss: 0.4518 | Valid Acc: 84.31%\n",
      "  Epoch Duration: 51.97s\n",
      "--------------------------------------------------\n",
      "\n",
      "--- Epoch 37/60 ---\n",
      "  Batch [ 391/391 ] | Loss: 0.3902 | LR: 0.057485 | Time: 75.3ms\n",
      "  Epoch Train Duration: 48.75s\n",
      "  Validation Duration: 3.04s\n",
      "--------------------------------------------------\n",
      "Epoch 37 Summary:\n",
      "  Train Loss: 0.4508 | Train Acc: 84.54%\n",
      "  Valid Loss: 0.3456 | Valid Acc: 88.21%\n",
      "  Epoch Duration: 51.80s\n",
      "--------------------------------------------------\n",
      "  ** Checkpoint Saved: best_cifar10_resnet_pytorch.pth (Val Acc: 88.21%) **\n",
      "\n",
      "--- Epoch 38/60 ---\n",
      "  Batch [ 391/391 ] | Loss: 0.3509 | LR: 0.053773 | Time: 75.1ms\n",
      "  Epoch Train Duration: 48.72s\n",
      "  Validation Duration: 3.04s\n",
      "--------------------------------------------------\n",
      "Epoch 38 Summary:\n",
      "  Train Loss: 0.4479 | Train Acc: 84.69%\n",
      "  Valid Loss: 0.3173 | Valid Acc: 89.20%\n",
      "  Epoch Duration: 51.76s\n",
      "--------------------------------------------------\n",
      "  ** Checkpoint Saved: best_cifar10_resnet_pytorch.pth (Val Acc: 89.20%) **\n",
      "\n",
      "--- Epoch 39/60 ---\n",
      "  Batch [ 391/391 ] | Loss: 0.4846 | LR: 0.050040 | Time: 76.0ms\n",
      "  Epoch Train Duration: 48.86s\n",
      "  Validation Duration: 3.06s\n",
      "--------------------------------------------------\n",
      "Epoch 39 Summary:\n",
      "  Train Loss: 0.4348 | Train Acc: 85.04%\n",
      "  Valid Loss: 0.3742 | Valid Acc: 87.14%\n",
      "  Epoch Duration: 51.92s\n",
      "--------------------------------------------------\n",
      "\n",
      "--- Epoch 40/60 ---\n",
      "  Batch [ 391/391 ] | Loss: 0.5063 | LR: 0.046308 | Time: 76.6ms\n",
      "  Epoch Train Duration: 49.09s\n",
      "  Validation Duration: 3.06s\n",
      "--------------------------------------------------\n",
      "Epoch 40 Summary:\n",
      "  Train Loss: 0.4261 | Train Acc: 85.28%\n",
      "  Valid Loss: 0.4023 | Valid Acc: 86.62%\n",
      "  Epoch Duration: 52.15s\n",
      "--------------------------------------------------\n",
      "\n",
      "--- Epoch 41/60 ---\n",
      "  Batch [ 391/391 ] | Loss: 0.3919 | LR: 0.042596 | Time: 75.5ms\n",
      "  Epoch Train Duration: 49.06s\n",
      "  Validation Duration: 3.05s\n",
      "--------------------------------------------------\n",
      "Epoch 41 Summary:\n",
      "  Train Loss: 0.4195 | Train Acc: 85.58%\n",
      "  Valid Loss: 0.4118 | Valid Acc: 86.50%\n",
      "  Epoch Duration: 52.10s\n",
      "--------------------------------------------------\n",
      "\n",
      "--- Epoch 42/60 ---\n",
      "  Batch [ 391/391 ] | Loss: 0.4651 | LR: 0.038926 | Time: 76.3ms\n",
      "  Epoch Train Duration: 48.86s\n",
      "  Validation Duration: 3.05s\n",
      "--------------------------------------------------\n",
      "Epoch 42 Summary:\n",
      "  Train Loss: 0.4119 | Train Acc: 85.73%\n",
      "  Valid Loss: 0.3311 | Valid Acc: 89.13%\n",
      "  Epoch Duration: 51.90s\n",
      "--------------------------------------------------\n",
      "\n",
      "--- Epoch 43/60 ---\n",
      "  Batch [ 391/391 ] | Loss: 0.4797 | LR: 0.035318 | Time: 76.5ms\n",
      "  Epoch Train Duration: 48.73s\n",
      "  Validation Duration: 3.03s\n",
      "--------------------------------------------------\n",
      "Epoch 43 Summary:\n",
      "  Train Loss: 0.4005 | Train Acc: 86.36%\n",
      "  Valid Loss: 0.3097 | Valid Acc: 89.25%\n",
      "  Epoch Duration: 51.76s\n",
      "--------------------------------------------------\n",
      "  ** Checkpoint Saved: best_cifar10_resnet_pytorch.pth (Val Acc: 89.25%) **\n",
      "\n",
      "--- Epoch 44/60 ---\n",
      "  Batch [ 391/391 ] | Loss: 0.3960 | LR: 0.031792 | Time: 73.9ms\n",
      "  Epoch Train Duration: 48.59s\n",
      "  Validation Duration: 3.03s\n",
      "--------------------------------------------------\n",
      "Epoch 44 Summary:\n",
      "  Train Loss: 0.3916 | Train Acc: 86.49%\n",
      "  Valid Loss: 0.3236 | Valid Acc: 89.30%\n",
      "  Epoch Duration: 51.63s\n",
      "--------------------------------------------------\n",
      "  ** Checkpoint Saved: best_cifar10_resnet_pytorch.pth (Val Acc: 89.30%) **\n",
      "\n",
      "--- Epoch 45/60 ---\n",
      "  Batch [ 391/391 ] | Loss: 0.2779 | LR: 0.028369 | Time: 75.2ms\n",
      "  Epoch Train Duration: 48.50s\n",
      "  Validation Duration: 3.02s\n",
      "--------------------------------------------------\n",
      "Epoch 45 Summary:\n",
      "  Train Loss: 0.3761 | Train Acc: 87.03%\n",
      "  Valid Loss: 0.2878 | Valid Acc: 90.09%\n",
      "  Epoch Duration: 51.52s\n",
      "--------------------------------------------------\n",
      "  ** Checkpoint Saved: best_cifar10_resnet_pytorch.pth (Val Acc: 90.09%) **\n",
      "\n",
      "--- Epoch 46/60 ---\n",
      "  Batch [ 391/391 ] | Loss: 0.4031 | LR: 0.025067 | Time: 74.6ms\n",
      "  Epoch Train Duration: 48.58s\n",
      "  Validation Duration: 3.02s\n",
      "--------------------------------------------------\n",
      "Epoch 46 Summary:\n",
      "  Train Loss: 0.3721 | Train Acc: 87.05%\n",
      "  Valid Loss: 0.2796 | Valid Acc: 90.30%\n",
      "  Epoch Duration: 51.60s\n",
      "--------------------------------------------------\n",
      "  ** Checkpoint Saved: best_cifar10_resnet_pytorch.pth (Val Acc: 90.30%) **\n",
      "\n",
      "--- Epoch 47/60 ---\n",
      "  Batch [ 391/391 ] | Loss: 0.4169 | LR: 0.021904 | Time: 75.3ms\n",
      "  Epoch Train Duration: 48.45s\n",
      "  Validation Duration: 3.03s\n",
      "--------------------------------------------------\n",
      "Epoch 47 Summary:\n",
      "  Train Loss: 0.3551 | Train Acc: 87.89%\n",
      "  Valid Loss: 0.2591 | Valid Acc: 90.94%\n",
      "  Epoch Duration: 51.48s\n",
      "--------------------------------------------------\n",
      "  ** Checkpoint Saved: best_cifar10_resnet_pytorch.pth (Val Acc: 90.94%) **\n",
      "\n",
      "--- Epoch 48/60 ---\n",
      "  Batch [ 391/391 ] | Loss: 0.3074 | LR: 0.018899 | Time: 74.8ms\n",
      "  Epoch Train Duration: 48.47s\n",
      "  Validation Duration: 3.02s\n",
      "--------------------------------------------------\n",
      "Epoch 48 Summary:\n",
      "  Train Loss: 0.3337 | Train Acc: 88.43%\n",
      "  Valid Loss: 0.2517 | Valid Acc: 91.60%\n",
      "  Epoch Duration: 51.49s\n",
      "--------------------------------------------------\n",
      "  ** Checkpoint Saved: best_cifar10_resnet_pytorch.pth (Val Acc: 91.60%) **\n",
      "\n",
      "--- Epoch 49/60 ---\n",
      "  Batch [ 391/391 ] | Loss: 0.2073 | LR: 0.016068 | Time: 76.3ms\n",
      "  Epoch Train Duration: 48.43s\n",
      "  Validation Duration: 3.02s\n",
      "--------------------------------------------------\n",
      "Epoch 49 Summary:\n",
      "  Train Loss: 0.3219 | Train Acc: 88.82%\n",
      "  Valid Loss: 0.2322 | Valid Acc: 92.26%\n",
      "  Epoch Duration: 51.46s\n",
      "--------------------------------------------------\n",
      "  ** Checkpoint Saved: best_cifar10_resnet_pytorch.pth (Val Acc: 92.26%) **\n",
      "\n",
      "--- Epoch 50/60 ---\n",
      "  Batch [ 391/391 ] | Loss: 0.3459 | LR: 0.013428 | Time: 73.7ms\n",
      "  Epoch Train Duration: 48.42s\n",
      "  Validation Duration: 3.03s\n",
      "--------------------------------------------------\n",
      "Epoch 50 Summary:\n",
      "  Train Loss: 0.2965 | Train Acc: 89.86%\n",
      "  Valid Loss: 0.2375 | Valid Acc: 92.28%\n",
      "  Epoch Duration: 51.45s\n",
      "--------------------------------------------------\n",
      "  ** Checkpoint Saved: best_cifar10_resnet_pytorch.pth (Val Acc: 92.28%) **\n",
      "\n",
      "--- Epoch 51/60 ---\n",
      "  Batch [ 391/391 ] | Loss: 0.2766 | LR: 0.010992 | Time: 73.7ms\n",
      "  Epoch Train Duration: 48.40s\n",
      "  Validation Duration: 3.02s\n",
      "--------------------------------------------------\n",
      "Epoch 51 Summary:\n",
      "  Train Loss: 0.2821 | Train Acc: 90.40%\n",
      "  Valid Loss: 0.2163 | Valid Acc: 92.53%\n",
      "  Epoch Duration: 51.42s\n",
      "--------------------------------------------------\n",
      "  ** Checkpoint Saved: best_cifar10_resnet_pytorch.pth (Val Acc: 92.53%) **\n",
      "\n",
      "--- Epoch 52/60 ---\n",
      "  Batch [ 391/391 ] | Loss: 0.2862 | LR: 0.008774 | Time: 75.5ms\n",
      "  Epoch Train Duration: 48.41s\n",
      "  Validation Duration: 3.03s\n",
      "--------------------------------------------------\n",
      "Epoch 52 Summary:\n",
      "  Train Loss: 0.2601 | Train Acc: 91.09%\n",
      "  Valid Loss: 0.2097 | Valid Acc: 92.83%\n",
      "  Epoch Duration: 51.44s\n",
      "--------------------------------------------------\n",
      "  ** Checkpoint Saved: best_cifar10_resnet_pytorch.pth (Val Acc: 92.83%) **\n",
      "\n",
      "--- Epoch 53/60 ---\n",
      "  Batch [ 391/391 ] | Loss: 0.2354 | LR: 0.006787 | Time: 73.5ms\n",
      "  Epoch Train Duration: 48.37s\n",
      "  Validation Duration: 3.02s\n",
      "--------------------------------------------------\n",
      "Epoch 53 Summary:\n",
      "  Train Loss: 0.2418 | Train Acc: 91.83%\n",
      "  Valid Loss: 0.2088 | Valid Acc: 93.08%\n",
      "  Epoch Duration: 51.39s\n",
      "--------------------------------------------------\n",
      "  ** Checkpoint Saved: best_cifar10_resnet_pytorch.pth (Val Acc: 93.08%) **\n",
      "\n",
      "--- Epoch 54/60 ---\n",
      "  Batch [ 391/391 ] | Loss: 0.1779 | LR: 0.005042 | Time: 74.8ms\n",
      "  Epoch Train Duration: 48.42s\n",
      "  Validation Duration: 3.03s\n",
      "--------------------------------------------------\n",
      "Epoch 54 Summary:\n",
      "  Train Loss: 0.2214 | Train Acc: 92.38%\n",
      "  Valid Loss: 0.1738 | Valid Acc: 94.22%\n",
      "  Epoch Duration: 51.45s\n",
      "--------------------------------------------------\n",
      "  ** Checkpoint Saved: best_cifar10_resnet_pytorch.pth (Val Acc: 94.22%) **\n",
      "\n",
      "--- Epoch 55/60 ---\n",
      "  Batch [ 391/391 ] | Loss: 0.2419 | LR: 0.003549 | Time: 75.0ms\n",
      "  Epoch Train Duration: 48.47s\n",
      "  Validation Duration: 3.03s\n",
      "--------------------------------------------------\n",
      "Epoch 55 Summary:\n",
      "  Train Loss: 0.2034 | Train Acc: 93.01%\n",
      "  Valid Loss: 0.1727 | Valid Acc: 94.29%\n",
      "  Epoch Duration: 51.50s\n",
      "--------------------------------------------------\n",
      "  ** Checkpoint Saved: best_cifar10_resnet_pytorch.pth (Val Acc: 94.29%) **\n",
      "\n",
      "--- Epoch 56/60 ---\n",
      "  Batch [ 391/391 ] | Loss: 0.2323 | LR: 0.002316 | Time: 75.2ms\n",
      "  Epoch Train Duration: 48.51s\n",
      "  Validation Duration: 3.03s\n",
      "--------------------------------------------------\n",
      "Epoch 56 Summary:\n",
      "  Train Loss: 0.1845 | Train Acc: 93.61%\n",
      "  Valid Loss: 0.1606 | Valid Acc: 94.72%\n",
      "  Epoch Duration: 51.54s\n",
      "--------------------------------------------------\n",
      "  ** Checkpoint Saved: best_cifar10_resnet_pytorch.pth (Val Acc: 94.72%) **\n",
      "\n",
      "--- Epoch 57/60 ---\n",
      "  Batch [ 391/391 ] | Loss: 0.1818 | LR: 0.001350 | Time: 75.7ms\n",
      "  Epoch Train Duration: 48.55s\n",
      "  Validation Duration: 3.03s\n",
      "--------------------------------------------------\n",
      "Epoch 57 Summary:\n",
      "  Train Loss: 0.1691 | Train Acc: 94.21%\n",
      "  Valid Loss: 0.1531 | Valid Acc: 95.00%\n",
      "  Epoch Duration: 51.58s\n",
      "--------------------------------------------------\n",
      "  ** Checkpoint Saved: best_cifar10_resnet_pytorch.pth (Val Acc: 95.00%) **\n",
      "\n",
      "--- Epoch 58/60 ---\n",
      "  Batch [ 391/391 ] | Loss: 0.1296 | LR: 0.000656 | Time: 76.5ms\n",
      "  Epoch Train Duration: 48.83s\n",
      "  Validation Duration: 3.06s\n",
      "--------------------------------------------------\n",
      "Epoch 58 Summary:\n",
      "  Train Loss: 0.1577 | Train Acc: 94.66%\n",
      "  Valid Loss: 0.1501 | Valid Acc: 95.07%\n",
      "  Epoch Duration: 51.89s\n",
      "--------------------------------------------------\n",
      "  ** Checkpoint Saved: best_cifar10_resnet_pytorch.pth (Val Acc: 95.07%) **\n",
      "\n",
      "--- Epoch 59/60 ---\n",
      "  Batch [ 391/391 ] | Loss: 0.1708 | LR: 0.000239 | Time: 75.7ms\n",
      "  Epoch Train Duration: 49.09s\n",
      "  Validation Duration: 3.05s\n",
      "--------------------------------------------------\n",
      "Epoch 59 Summary:\n",
      "  Train Loss: 0.1530 | Train Acc: 94.70%\n",
      "  Valid Loss: 0.1463 | Valid Acc: 95.09%\n",
      "  Epoch Duration: 52.14s\n",
      "--------------------------------------------------\n",
      "  ** Checkpoint Saved: best_cifar10_resnet_pytorch.pth (Val Acc: 95.09%) **\n",
      "\n",
      "--- Epoch 60/60 ---\n",
      "  Batch [ 391/391 ] | Loss: 0.1230 | LR: 0.000100 | Time: 74.9ms\n",
      "  Epoch Train Duration: 48.76s\n",
      "  Validation Duration: 3.03s\n",
      "--------------------------------------------------\n",
      "Epoch 60 Summary:\n",
      "  Train Loss: 0.1462 | Train Acc: 95.01%\n",
      "  Valid Loss: 0.1452 | Valid Acc: 95.20%\n",
      "  Epoch Duration: 51.80s\n",
      "--------------------------------------------------\n",
      "  ** Checkpoint Saved: best_cifar10_resnet_pytorch.pth (Val Acc: 95.20%) **\n",
      "\n",
      "--- Training Finished ---\n",
      "Total Training Time: 51.68 minutes (3100.76 seconds)\n",
      "Best Validation Accuracy Achieved: 95.20%\n"
     ]
    }
   ],
   "source": [
    "print(f\"\\n--- Starting Training for {EPOCHS} Epochs ---\")\n",
    "start_train_time = time.time()\n",
    "\n",
    "best_val_accuracy = 0.0\n",
    "history = {'train_loss': [], 'val_loss': [], 'train_acc': [], 'val_acc': [], 'lr': []}\n",
    "\n",
    "for epoch in range(EPOCHS):\n",
    "    epoch_start_time = time.time()\n",
    "    print(f\"\\n--- Epoch {epoch+1}/{EPOCHS} ---\")\n",
    "\n",
    "    # Train\n",
    "    train_loss, train_acc = train_one_epoch(model, train_loader, criterion, optimizer, scheduler, DEVICE) # Pass scaler if using AMP\n",
    "\n",
    "    # Validate\n",
    "    val_loss, val_acc = validate(model, test_loader, criterion, DEVICE)\n",
    "\n",
    "    # Log history\n",
    "    history['train_loss'].append(train_loss)\n",
    "    history['train_acc'].append(train_acc)\n",
    "    history['val_loss'].append(val_loss)\n",
    "    history['val_acc'].append(val_acc)\n",
    "    history['lr'].append(optimizer.param_groups[0]['lr']) # Log LR at end of epoch\n",
    "\n",
    "    epoch_duration = time.time() - epoch_start_time\n",
    "    print(\"-\" * 50)\n",
    "    print(f\"Epoch {epoch+1} Summary:\")\n",
    "    print(f\"  Train Loss: {train_loss:.4f} | Train Acc: {train_acc*100:.2f}%\")\n",
    "    print(f\"  Valid Loss: {val_loss:.4f} | Valid Acc: {val_acc*100:.2f}%\")\n",
    "    print(f\"  Epoch Duration: {epoch_duration:.2f}s\")\n",
    "    print(\"-\" * 50)\n",
    "\n",
    "    # Save the model checkpoint if validation accuracy improves\n",
    "    if val_acc > best_val_accuracy:\n",
    "        best_val_accuracy = val_acc\n",
    "        # Save the model's state dictionary\n",
    "        try:\n",
    "            torch.save(model.state_dict(), MODEL_SAVE_PATH)\n",
    "            print(f\"  ** Checkpoint Saved: {MODEL_SAVE_PATH} (Val Acc: {best_val_accuracy*100:.2f}%) **\")\n",
    "        except Exception as e:\n",
    "            print(f\"  Warning: Could not save model checkpoint. Error: {e}\")\n",
    "\n",
    "\n",
    "total_train_time = time.time() - start_train_time\n",
    "print(f\"\\n--- Training Finished ---\")\n",
    "print(f\"Total Training Time: {total_train_time / 60:.2f} minutes ({total_train_time:.2f} seconds)\")\n",
    "print(f\"Best Validation Accuracy Achieved: {best_val_accuracy*100:.2f}%\")"
   ]
  },
  {
   "cell_type": "markdown",
   "id": "b6b5c013",
   "metadata": {
    "execution": {
     "iopub.execute_input": "2025-05-03T09:17:59.274032Z",
     "iopub.status.busy": "2025-05-03T09:17:59.273697Z",
     "iopub.status.idle": "2025-05-03T09:20:01.712557Z",
     "shell.execute_reply": "2025-05-03T09:20:01.710825Z",
     "shell.execute_reply.started": "2025-05-03T09:17:59.274003Z"
    },
    "papermill": {
     "duration": 0.017166,
     "end_time": "2025-05-03T10:29:00.807821",
     "exception": false,
     "start_time": "2025-05-03T10:29:00.790655",
     "status": "completed"
    },
    "tags": []
   },
   "source": [
    "# Final Evaluation on Test Set "
   ]
  },
  {
   "cell_type": "code",
   "execution_count": 16,
   "id": "f193b7c1",
   "metadata": {
    "execution": {
     "iopub.execute_input": "2025-05-03T10:29:00.843857Z",
     "iopub.status.busy": "2025-05-03T10:29:00.843526Z",
     "iopub.status.idle": "2025-05-03T10:29:04.096344Z",
     "shell.execute_reply": "2025-05-03T10:29:04.095543Z"
    },
    "papermill": {
     "duration": 3.272514,
     "end_time": "2025-05-03T10:29:04.097582",
     "exception": false,
     "start_time": "2025-05-03T10:29:00.825068",
     "status": "completed"
    },
    "tags": []
   },
   "outputs": [
    {
     "name": "stdout",
     "output_type": "stream",
     "text": [
      "\n",
      "Loading best model from 'best_cifar10_resnet_pytorch.pth' for final evaluation...\n"
     ]
    },
    {
     "name": "stderr",
     "output_type": "stream",
     "text": [
      "/tmp/ipykernel_19/2520596602.py:4: FutureWarning: You are using `torch.load` with `weights_only=False` (the current default value), which uses the default pickle module implicitly. It is possible to construct malicious pickle data which will execute arbitrary code during unpickling (See https://github.com/pytorch/pytorch/blob/main/SECURITY.md#untrusted-models for more details). In a future release, the default value for `weights_only` will be flipped to `True`. This limits the functions that could be executed during unpickling. Arbitrary objects will no longer be allowed to be loaded via this mode unless they are explicitly allowlisted by the user via `torch.serialization.add_safe_globals`. We recommend you start setting `weights_only=True` for any use case where you don't have full control of the loaded file. Please open an issue on GitHub for any issues related to this experimental feature.\n",
      "  best_model.load_state_dict(torch.load(MODEL_SAVE_PATH, map_location=DEVICE)) # Ensure map_location for CPU fallback\n"
     ]
    },
    {
     "name": "stdout",
     "output_type": "stream",
     "text": [
      "  Validation Duration: 3.02s\n",
      "\n",
      "--- Final Test Set Performance (Best Model) ---\n",
      "  Test Loss: 0.1452\n",
      "  Test Accuracy: 95.20%\n"
     ]
    }
   ],
   "source": [
    "print(f\"\\nLoading best model from '{MODEL_SAVE_PATH}' for final evaluation...\")\n",
    "try:\n",
    "    best_model = create_resnet18_cifar().to(DEVICE)\n",
    "    best_model.load_state_dict(torch.load(MODEL_SAVE_PATH, map_location=DEVICE)) # Ensure map_location for CPU fallback\n",
    "\n",
    "    test_loss, test_acc = validate(best_model, test_loader, criterion, DEVICE)\n",
    "    print(f\"\\n--- Final Test Set Performance (Best Model) ---\")\n",
    "    print(f\"  Test Loss: {test_loss:.4f}\")\n",
    "    print(f\"  Test Accuracy: {test_acc*100:.2f}%\")\n",
    "except FileNotFoundError:\n",
    "    print(f\"Error: Best model file '{MODEL_SAVE_PATH}' not found. Skipping final evaluation.\")\n",
    "except Exception as e:\n",
    "     print(f\"Error loading best model or during final evaluation: {e}\")"
   ]
  },
  {
   "cell_type": "markdown",
   "id": "70033760",
   "metadata": {
    "execution": {
     "iopub.execute_input": "2025-05-03T09:17:59.274032Z",
     "iopub.status.busy": "2025-05-03T09:17:59.273697Z",
     "iopub.status.idle": "2025-05-03T09:20:01.712557Z",
     "shell.execute_reply": "2025-05-03T09:20:01.710825Z",
     "shell.execute_reply.started": "2025-05-03T09:17:59.274003Z"
    },
    "papermill": {
     "duration": 0.017434,
     "end_time": "2025-05-03T10:29:04.133496",
     "exception": false,
     "start_time": "2025-05-03T10:29:04.116062",
     "status": "completed"
    },
    "tags": []
   },
   "source": [
    "# Plotting Training History"
   ]
  },
  {
   "cell_type": "code",
   "execution_count": 17,
   "id": "6ca78664",
   "metadata": {
    "execution": {
     "iopub.execute_input": "2025-05-03T10:29:04.170018Z",
     "iopub.status.busy": "2025-05-03T10:29:04.169739Z",
     "iopub.status.idle": "2025-05-03T10:29:05.126179Z",
     "shell.execute_reply": "2025-05-03T10:29:05.125457Z"
    },
    "papermill": {
     "duration": 0.977007,
     "end_time": "2025-05-03T10:29:05.127940",
     "exception": false,
     "start_time": "2025-05-03T10:29:04.150933",
     "status": "completed"
    },
    "tags": []
   },
   "outputs": [
    {
     "name": "stdout",
     "output_type": "stream",
     "text": [
      "\n",
      "Generating training history plots...\n",
      "Training history plot saved as 'training_history_pytorch.png'\n",
      "\n",
      "--- Script Finished ---\n"
     ]
    },
    {
     "data": {
      "image/png": "[encoded data removed]",
      "text/plain": [
       "<Figure size 1800x500 with 3 Axes>"
      ]
     },
     "metadata": {},
     "output_type": "display_data"
    }
   ],
   "source": [
    "print(\"\\nGenerating training history plots...\")\n",
    "def plot_training_history(history):\n",
    "    epochs_range = range(1, len(history['train_loss']) + 1)\n",
    "    plt.style.use('seaborn-v0_8-whitegrid') # Use a nice style\n",
    "\n",
    "    fig, axs = plt.subplots(1, 3, figsize=(18, 5)) # Create 3 subplots\n",
    "\n",
    "    # Plot Loss\n",
    "    axs[0].plot(epochs_range, history['train_loss'], 'o-', color='royalblue', label='Training Loss')\n",
    "    axs[0].plot(epochs_range, history['val_loss'], 'o-', color='orangered', label='Validation Loss')\n",
    "    axs[0].set_title('Loss vs. Epochs')\n",
    "    axs[0].set_xlabel('Epochs')\n",
    "    axs[0].set_ylabel('Loss')\n",
    "    axs[0].legend()\n",
    "\n",
    "    # Plot Accuracy\n",
    "    axs[1].plot(epochs_range, [acc * 100 for acc in history['train_acc']], 'o-', color='royalblue', label='Training Accuracy')\n",
    "    axs[1].plot(epochs_range, [acc * 100 for acc in history['val_acc']], 'o-', color='orangered', label='Validation Accuracy')\n",
    "    axs[1].set_title('Accuracy vs. Epochs')\n",
    "    axs[1].set_xlabel('Epochs')\n",
    "    axs[1].set_ylabel('Accuracy (%)')\n",
    "    axs[1].legend()\n",
    "    axs[1].yaxis.set_major_formatter(plt.FuncFormatter(lambda x, _: f'{x:.1f}%')) # Format y-axis as percentage\n",
    "\n",
    "    # Plot Learning Rate\n",
    "    axs[2].plot(epochs_range, history['lr'], 'o-', color='forestgreen', label='Learning Rate')\n",
    "    axs[2].set_title('Learning Rate vs. Epochs')\n",
    "    axs[2].set_xlabel('Epochs')\n",
    "    axs[2].set_ylabel('Learning Rate')\n",
    "    axs[2].ticklabel_format(style='sci', axis='y', scilimits=(0,0)) # Use scientific notation if needed\n",
    "    axs[2].legend()\n",
    "\n",
    "    fig.suptitle('CIFAR-10 Training History (ResNet18)', fontsize=16)\n",
    "    plt.tight_layout(rect=[0, 0.03, 1, 0.95]) # Adjust layout to prevent title overlap\n",
    "    plt.savefig('training_history_pytorch.png') # Save the plot\n",
    "    print(\"Training history plot saved as 'training_history_pytorch.png'\")\n",
    "    # plt.show() # Display the plot if running interactively\n",
    "\n",
    "# Check if history has data before plotting\n",
    "if history['train_loss']:\n",
    "    plot_training_history(history)\n",
    "else:\n",
    "    print(\"No training history recorded, skipping plot generation.\")\n",
    "\n",
    "print(\"\\n--- Script Finished ---\")"
   ]
  }
 ],
 "metadata": {
  "kaggle": {
   "accelerator": "nvidiaTeslaT4",
   "dataSources": [],
   "dockerImageVersionId": 31012,
   "isGpuEnabled": true,
   "isInternetEnabled": true,
   "language": "python",
   "sourceType": "notebook"
  },
  "kernelspec": {
   "display_name": "Python 3",
   "language": "python",
   "name": "python3"
  },
  "language_info": {
   "codemirror_mode": {
    "name": "ipython",
    "version": 3
   },
   "file_extension": ".py",
   "mimetype": "text/x-python",
   "name": "python",
   "nbconvert_exporter": "python",
   "pygments_lexer": "ipython3",
   "version": "3.11.11"
  },
  "papermill": {
   "default_parameters": {},
   "duration": 3128.312555,
   "end_time": "2025-05-03T10:29:07.868126",
   "environment_variables": {},
   "exception": null,
   "input_path": "__notebook__.ipynb",
   "output_path": "__notebook__.ipynb",
   "parameters": {},
   "start_time": "2025-05-03T09:36:59.555571",
   "version": "2.6.0"
  }
 },
 "nbformat": 4,
 "nbformat_minor": 5
}
